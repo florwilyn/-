{
 "cells": [
  {
   "cell_type": "markdown",
   "metadata": {},
   "source": [
    "## Selection Sort"
   ]
  },
  {
   "cell_type": "code",
   "execution_count": 15,
   "metadata": {
    "collapsed": true
   },
   "outputs": [],
   "source": [
    "import random\n",
    "import math\n",
    "\n",
    "def selection_sort(collection):\n",
    "    comparisons = 0;\n",
    "    length = len(collection)\n",
    "    for i in range(length):\n",
    "        least = i\n",
    "        for k in range(i + 1, length):\n",
    "            comparisons += 1\n",
    "            if collection[k] < collection[least]:\n",
    "                least = k\n",
    "        collection[least], collection[i] = (\n",
    "            collection[i], collection[least]\n",
    "        )\n",
    "    return counter, collection\n",
    "#print(\"Average Case: %s %s\" % selection_sort(average_case_))\n",
    "#print(\"Best Case: %s %s\" % selection_sort(best_case_))\n",
    "#print(\"Worst Case:  %s %s\" % selection_sort(worst_case_)) \n",
    "#print(\"Test Case:  %s %s\" % selection_sort(selection)) \n"
   ]
  },
  {
   "cell_type": "markdown",
   "metadata": {},
   "source": [
    "## Insertion Sort"
   ]
  },
  {
   "cell_type": "code",
   "execution_count": 16,
   "metadata": {
    "collapsed": true
   },
   "outputs": [],
   "source": [
    "def insertion_sort(array, gap):\n",
    "    comparisons = 0\n",
    "    for i in range(gap, len(array)):\n",
    "        comparisons += 1\n",
    "        val = array[i]\n",
    "        j = i\n",
    "        while j >= gap and array[j - gap] > val:\n",
    "            array[j] = array[j - gap]\n",
    "            j -= gap\n",
    "            comparisons +=1\n",
    "        array[j] = val\n",
    "\n",
    "    return comparisons"
   ]
  },
  {
   "cell_type": "markdown",
   "metadata": {},
   "source": [
    "## Bubble Sort"
   ]
  },
  {
   "cell_type": "code",
   "execution_count": 17,
   "metadata": {
    "collapsed": true
   },
   "outputs": [],
   "source": [
    "def bubble_sort(data):\n",
    "    count = 0\n",
    "    while True:\n",
    "        swapped = False\n",
    "        for i in range(1, len(data)):\n",
    "            count += 1\n",
    "            if data[i-1] > data[i]:\n",
    "                data[i-1], data[i] = data[i], data[i-1]\n",
    "                swapped = True\n",
    "        if not swapped:\n",
    "            break\n",
    "    return count, data"
   ]
  },
  {
   "cell_type": "markdown",
   "metadata": {},
   "source": [
    "## Shell Sort (Shell's Gap)"
   ]
  },
  {
   "cell_type": "code",
   "execution_count": 18,
   "metadata": {
    "collapsed": true
   },
   "outputs": [],
   "source": [
    "def get_Unsortedness(data):\n",
    "    counter = 0;\n",
    "    comparisons = 0\n",
    "    for index in range(1, len(data)):\n",
    "        counter+=1\n",
    "        while 0 < index and data[index] < data[index - 1]:\n",
    "            counter += 1\n",
    "            index -= 1\n",
    "\n",
    "    return counter"
   ]
  },
  {
   "cell_type": "code",
   "execution_count": 19,
   "metadata": {
    "collapsed": true
   },
   "outputs": [],
   "source": [
    "def shell_sort_shell(array):\n",
    "    comparisons = []\n",
    "    unsortedness = []\n",
    "    gaps = []\n",
    "\n",
    "    gap = len(array) // 2\n",
    "    commulative_comp = 0;\n",
    "\n",
    "    gaps.append(0)\n",
    "\n",
    "    ## SHELL SORT IMPLEMENTATION (SHELL'S GAP)\n",
    "    # loop over the gaps\n",
    "    while gap > 0:\n",
    "        gaps.append(gap)\n",
    "        unsortedness.append(get_Unsortedness(array))\n",
    "        comparisons.append(commulative_comp)\n",
    "        #print(commulative_comp, get_Unsortedness(array))\n",
    "        commulative_comp += insertion_sort(array, gap)\n",
    "        gap //= 2\n",
    "    \n",
    "    comparisons.append(commulative_comp)\n",
    "    unsortedness.append(0)\n",
    "\n",
    "    return gaps,comparisons,unsortedness,commulative_comp"
   ]
  },
  {
   "cell_type": "markdown",
   "metadata": {},
   "source": [
    "## Shell Sort (Ciura's Gap)"
   ]
  },
  {
   "cell_type": "code",
   "execution_count": 20,
   "metadata": {
    "collapsed": true
   },
   "outputs": [],
   "source": [
    "def shell_sort_ciura(array):\n",
    "    comparisons = []\n",
    "    unsortedness = []\n",
    "    gaps = [701, 301, 132, 57, 23, 10, 4, 1]\n",
    "\n",
    "    commulative_comp = 0\n",
    "\n",
    "    ## SHELL SORT IMPLEMENTATION (CIURA'S GAP)\n",
    "    # loop over the gaps\n",
    "    for gap in gaps:\n",
    "        unsortedness.append(get_Unsortedness(array))\n",
    "        comparisons.append(commulative_comp)\n",
    "        commulative_comp += insertion_sort(array, gap)\n",
    "\n",
    "    comparisons.append(commulative_comp)\n",
    "    unsortedness.append(0)\n",
    "\n",
    "    return gaps,comparisons,unsortedness"
   ]
  },
  {
   "cell_type": "markdown",
   "metadata": {},
   "source": [
    "## Bucket Sort"
   ]
  },
  {
   "cell_type": "code",
   "execution_count": 21,
   "metadata": {
    "collapsed": true
   },
   "outputs": [],
   "source": [
    "DEFAULT_BUCKET_SIZE = 5\n",
    "\n",
    "def bucketSort(myList, bucketSize=DEFAULT_BUCKET_SIZE):\n",
    "    if(len(myList) == 0):\n",
    "        print('You don\\'t have any elements in array!')\n",
    "\n",
    "    minValue = myList[0]\n",
    "    maxValue = myList[0]\n",
    "\n",
    "    # For finding minimum and maximum values\n",
    "    for i in range(0, len(myList)):\n",
    "        if myList[i] < minValue:\n",
    "            minValue = myList[i]\n",
    "        elif myList[i] > maxValue:\n",
    "            maxValue = myList[i]\n",
    "\n",
    "    # Initialize buckets\n",
    "    bucketCount = math.floor((maxValue - minValue) / bucketSize) + 1\n",
    "    buckets = []\n",
    "    for i in range(0, bucketCount):\n",
    "        buckets.append([])\n",
    "\n",
    "    # For putting values in buckets\n",
    "    for i in range(0, len(myList)):\n",
    "        buckets[math.floor((myList[i] - minValue) / bucketSize)].append(myList[i])\n",
    "        \n",
    "\n",
    "    # Sort buckets and place back into input array\n",
    "    sortedArray = []\n",
    "    for i in range(0, len(buckets)):\n",
    "        insertion_sort(buckets[i],1)\n",
    "        for j in range(0, len(buckets[i])):\n",
    "            sortedArray.append(buckets[i][j])\n",
    "\n",
    "\n",
    "    print(\"Number of buckets %s\", len(buckets))\n",
    "    for i in range(0, len(buckets)):\n",
    "         if buckets[i]:\n",
    "                 print(\"Buckets \", len(buckets[i]), \"First: \", buckets[i][0])\n",
    "        \n",
    "    return sortedArray, buckets\n"
   ]
  },
  {
   "cell_type": "markdown",
   "metadata": {
    "collapsed": true
   },
   "source": [
    "## Radix Sort w/ counting sort as subroutine"
   ]
  },
  {
   "cell_type": "code",
   "execution_count": 22,
   "metadata": {
    "collapsed": true
   },
   "outputs": [],
   "source": [
    "def counting_sort(arr, exp):\n",
    "    n = len(arr)\n",
    " \n",
    "    # The output array elements that will have sorted arr\n",
    "    output = [0] * (n)\n",
    " \n",
    "    # initialize count array as 0\n",
    "    count = [0] * (10)\n",
    " \n",
    "    # Store count of occurrences in count[]\n",
    "    for i in range(0, n):\n",
    "        index = (arr[i]/exp)\n",
    "        # print('index: ',index)\n",
    "        count[ (index)%10 ] += 1\n",
    " \n",
    "    # Change count[i] so that count[i] now contains actual\n",
    "    #  position of this digit in output array\n",
    "    for i in range(1,10):\n",
    "        count[i] += count[i-1]\n",
    " \n",
    "    # Build the output array\n",
    "    i = n-1\n",
    "    while i>=0:\n",
    "        index = (arr[i]/exp)\n",
    "        output[ count[ (index)%10 ] - 1] = arr[i]\n",
    "        count[ (index)%10 ] -= 1\n",
    "        i -= 1\n",
    " \n",
    "    # Copying the output array to arr[],\n",
    "    # so that arr now contains sorted numbers\n",
    "    i = 0\n",
    "    for i in range(0,len(arr)):\n",
    "        arr[i] = output[i]"
   ]
  },
  {
   "cell_type": "code",
   "execution_count": 23,
   "metadata": {
    "collapsed": true
   },
   "outputs": [],
   "source": [
    "def radix_sort_count(arr):\n",
    "    # Find the maximum number to know number of digits\n",
    "    max1 = max(arr)\n",
    " \n",
    "    # Do counting sort for every digit. Note that instead\n",
    "    # of passing digit number, exp is passed. exp is 10^i\n",
    "    # where i is current digit number\n",
    "    exp = 1\n",
    "    while max1/exp > 0:\n",
    "        counting_sort(arr,exp)\n",
    "        # tmp\n",
    "        #insertion_sort(arr, 1)\n",
    "        exp *= 10\n",
    "        #print(arr)"
   ]
  },
  {
   "cell_type": "markdown",
   "metadata": {},
   "source": [
    "## Radix Sort w/ Insertion Sort as Subroutine"
   ]
  },
  {
   "cell_type": "code",
   "execution_count": 24,
   "metadata": {
    "collapsed": true
   },
   "outputs": [],
   "source": [
    "def radix_sort_insert(array, radix=10):\n",
    "    access = []\n",
    "    if len(array) == 0:\n",
    "        return array\n",
    "    \n",
    "    minValue = min(array)\n",
    "    maxValue = max(array)\n",
    "\n",
    "    # Perform counting sort on each exponent/digit, starting at the least\n",
    "    # significant digit\n",
    "    exponent = 1\n",
    "    while (maxValue - minValue) / exponent >= 1:\n",
    "        #array = countingSortByDigit(array, radix, exponent, minValue)\n",
    "        res = radix_insertion_sort(array, 1, exponent, radix)\n",
    "        access += res[1]\n",
    "        # print(array)\n",
    "        exponent *= radix\n",
    "\n",
    "    return array,access"
   ]
  },
  {
   "cell_type": "code",
   "execution_count": 25,
   "metadata": {
    "collapsed": true
   },
   "outputs": [],
   "source": [
    "def radix_insertion_sort(array, gap, exp, radix):\n",
    "    arr = []\n",
    "    comparisons = 0\n",
    "    for i in range(gap, len(array)):\n",
    "        ctr = 0;\n",
    "        comparisons += 1\n",
    "        val = array[i]\n",
    "        # print (val)\n",
    "        j = i\n",
    "        while j >= gap and array[j - gap] / exp % radix > val  / exp % radix:\n",
    "            ctr += 1\n",
    "            arr.append((array[j],ctr))\n",
    "            array[j] = array[j - gap]\n",
    "            j -= gap\n",
    "            comparisons +=1\n",
    "        array[j] = val\n",
    "        arr.append((array[j],ctr))\n",
    "\n",
    "    return comparisons, arr"
   ]
  },
  {
   "cell_type": "code",
   "execution_count": 26,
   "metadata": {
    "collapsed": true
   },
   "outputs": [],
   "source": [
    "def counting_sort(arr, exp):\n",
    "    access = []\n",
    "    n = len(arr)\n",
    " \n",
    "    # The output array elements that will have sorted arr\n",
    "    output = [0] * (n)\n",
    " \n",
    "    # initialize count array as 0\n",
    "    count = [0] * (10)\n",
    " \n",
    "    # Store count of occurrences in count[]\n",
    "    ctr = 0\n",
    "    for i in range(0, n):\n",
    "        index = (arr[i]/exp)\n",
    "        ctr += 1\n",
    "        # access.append((arr[i], ctr))\n",
    "        count[ (index)%10 ] += 1\n",
    "        ctr = 0\n",
    " \n",
    "    # Change count[i] so that count[i] now contains actual\n",
    "    #  position of this digit in output array\n",
    "    for i in range(1,10):\n",
    "        # print(\"YYYY\")\n",
    "        count[i] += count[i-1]\n",
    " \n",
    "    # Build the output array\n",
    "    ctr = 0\n",
    "    i = n-1\n",
    "    while i>=0:\n",
    "        index = (arr[i]/exp)\n",
    "        ctr += 1\n",
    "        access.append((arr[i], ctr))\n",
    "        # print(index)\n",
    "        output[ count[ (index)%10 ] - 1] = arr[i]\n",
    "        count[ (index)%10 ] -= 1\n",
    "        i -= 1\n",
    "        ctr = 0\n",
    " \n",
    "    # Copying the output array to arr[],\n",
    "    # so that arr now contains sorted numbers\n",
    "    i = 0\n",
    "    for i in range(0,len(arr)):\n",
    "        arr[i] = output[i]\n",
    "\n",
    "    return access"
   ]
  },
  {
   "cell_type": "code",
   "execution_count": 27,
   "metadata": {
    "collapsed": true
   },
   "outputs": [],
   "source": [
    "def radix_sort_count(arr):\n",
    "    access = []\n",
    "    # Find the maximum number to know number of digits\n",
    "    max1 = max(arr)\n",
    " \n",
    "    # Do counting sort for every digit. Note that instead\n",
    "    # of passing digit number, exp is passed. exp is 10^i\n",
    "    # where i is current digit number\n",
    "    exp = 1\n",
    "    while max1/exp > 0:\n",
    "        access += counting_sort(arr,exp)\n",
    "        # tmp\n",
    "        #insertion_sort(arr, 1)\n",
    "        exp *= 10\n",
    "        print(arr)\n",
    "\n",
    "    return access;"
   ]
  }
 ],
 "metadata": {
  "kernelspec": {
   "display_name": "Python 3",
   "language": "python",
   "name": "python3"
  },
  "language_info": {
   "codemirror_mode": {
    "name": "ipython",
    "version": 3
   },
   "file_extension": ".py",
   "mimetype": "text/x-python",
   "name": "python",
   "nbconvert_exporter": "python",
   "pygments_lexer": "ipython3",
   "version": "3.6.2"
  }
 },
 "nbformat": 4,
 "nbformat_minor": 2
}
